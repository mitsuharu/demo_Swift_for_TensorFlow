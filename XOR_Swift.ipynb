{
  "nbformat": 4,
  "nbformat_minor": 0,
  "metadata": {
    "colab": {
      "name": "XOR_Swift.ipynb",
      "version": "0.3.2",
      "provenance": [],
      "collapsed_sections": []
    },
    "kernelspec": {
      "name": "swift",
      "display_name": "Swift"
    }
  },
  "cells": [
    {
      "metadata": {
        "id": "9k2LcDmKQOo8",
        "colab_type": "text"
      },
      "cell_type": "markdown",
      "source": [
        "Swiftのバージョン"
      ]
    },
    {
      "metadata": {
        "id": "GCB3Ajns-gYM",
        "colab_type": "code",
        "outputId": "e200762a-76a8-4fd9-8b9a-f9ecb96e7ae2",
        "colab": {
          "base_uri": "https://localhost:8080/",
          "height": 34
        }
      },
      "cell_type": "code",
      "source": [
        "class Util{\n",
        "  static var swiftVersion: String{\n",
        "    #if swift(>=5.0)\n",
        "      return \"Swift 5.0\"\n",
        "\n",
        "    #elseif swift(>=4.2)\n",
        "      return \"Swift 4.2\"\n",
        "\n",
        "    #elseif swift(>=4.1)\n",
        "     return \"Swift 4.1\"\n",
        "\n",
        "    #elseif swift(>=4.0)\n",
        "      return \"Swift 4.0\"\n",
        "\n",
        "    #elseif swift(>=3.2)\n",
        "      return \"Swift 3.2\"\n",
        "\n",
        "    #elseif swift(>=3.0)\n",
        "      return \"Swift 3.0\"\n",
        "\n",
        "    #endif\n",
        "\n",
        "    return \"unknown\"\n",
        "  }  \n",
        "}\n",
        "\n",
        "print(\"Swift version: \\(Util.swiftVersion)\")"
      ],
      "execution_count": 0,
      "outputs": [
        {
          "output_type": "stream",
          "text": [
            "Swift version: Swift 5.0\r\n"
          ],
          "name": "stdout"
        }
      ]
    },
    {
      "metadata": {
        "id": "RAPBgCrdQYZF",
        "colab_type": "text"
      },
      "cell_type": "markdown",
      "source": [
        "Pythonのバージョン"
      ]
    },
    {
      "metadata": {
        "id": "kZRlD4utdPuX",
        "colab_type": "code",
        "outputId": "b80b58e7-0af2-4ce8-a495-faba7ae126e9",
        "colab": {
          "base_uri": "https://localhost:8080/",
          "height": 90
        }
      },
      "cell_type": "code",
      "source": [
        "import TensorFlow\n",
        "import Python\n",
        "\n",
        "print(\"Python version: \\(Python.version)\")\n",
        "\n",
        "let np = Python.import(\"numpy\")\n",
        "\n",
        "let a = np.array([[1, 2], [3, 4]])\n",
        "let b = np.array([[5], [6]])\n",
        "let c = np.matmul(a, b)\n",
        "\n",
        "print(c)"
      ],
      "execution_count": 0,
      "outputs": [
        {
          "output_type": "stream",
          "text": [
            "Python version: 3.6.7 (default, Oct 22 2018, 11:32:17) \r\n",
            "[GCC 8.2.0]\r\n",
            "[[17]\r\n",
            " [39]]\r\n"
          ],
          "name": "stdout"
        }
      ]
    },
    {
      "metadata": {
        "id": "Ka9tlfVHQe2m",
        "colab_type": "text"
      },
      "cell_type": "markdown",
      "source": [
        "XOR"
      ]
    },
    {
      "metadata": {
        "id": "mOGaOetPN7bp",
        "colab_type": "code",
        "outputId": "e24502d5-3197-477f-b7d0-5e0049ac66aa",
        "colab": {
          "base_uri": "https://localhost:8080/",
          "height": 102
        }
      },
      "cell_type": "code",
      "source": [
        "// XOR\n",
        "\n",
        "import Foundation\n",
        "import TensorFlow\n",
        "\n",
        "// XORのモデル\n",
        "struct XOR: Layer {\n",
        "  \n",
        "  var layer1: Dense<Float>\n",
        "  var layer2: Dense<Float>\n",
        "  \n",
        "//   // ここで宣言と代入もできる\n",
        "//   var layer1 = Dense<Float>(inputSize: 2,  outputSize: hiddenSize, activation: sigmoid)\n",
        "  \n",
        "  init(hiddenSize:Int = 2){\n",
        "    self.layer1 = Dense(inputSize: 2,  outputSize: hiddenSize,  activation: sigmoid)\n",
        "    self.layer2 = Dense(inputSize: hiddenSize, outputSize: 1,  activation: sigmoid)\n",
        "  }\n",
        "  \n",
        "  @differentiable\n",
        "  func applied(to input: Tensor<Float>, in context: Context) -> Tensor<Float> {\n",
        "    return input.sequenced(in: context, through: layer1, layer2)\n",
        "    \n",
        "//    // 層を逐次繋ぐ場合\n",
        "//    let h1 = l1.applied(to: input, in: context)\n",
        "//    let h2 = l2.applied(to: h1, in: context)\n",
        "//    return h2\n",
        "    }\n",
        "}\n",
        "\n",
        "\n",
        "let x: Tensor<Float> = [[0, 0], [0, 1], [1, 0], [1, 1]]\n",
        "let y: Tensor<Float> = [[0], [1], [1], [0]]\n",
        "\n",
        "var model = XOR()\n",
        "let optimizer = SGD<XOR, Float>(learningRate: 0.1)\n",
        "let context = Context(learningPhase: .training)\n",
        "\n",
        "var date = Date()\n",
        "for epoch in 1...5000 {\n",
        "  \n",
        "  let dmodel = model.gradient { m -> Tensor<Float> in\n",
        "    let t = m.applied(to: x, in: context)\n",
        "    let loss = sigmoidCrossEntropy(logits: t, labels: y)\n",
        "    return loss\n",
        " }\n",
        "  \n",
        "  optimizer.update(&model.allDifferentiableVariables, along: dmodel)\n",
        " \n",
        "}\n",
        "\n",
        "let diff = Date().timeIntervalSince(date)\n",
        "print(\"elapsed_time: \\(diff) sec\")\n",
        "\n",
        "let inference = round(model.inferring(from: x))\n",
        "// print(inference)\n",
        "\n",
        "for i: Int32 in 0 ..< 4 {\n",
        "    print(\"x: \\(x[i]), y: \\(y[i]), inference: \\(inference[i]), result:\\(y[i] == inference[i] )\")\n",
        "}\n",
        "\n",
        "//print(model)\n"
      ],
      "execution_count": 1,
      "outputs": [
        {
          "output_type": "stream",
          "text": [
            "elapsed_time: 12.815145015716553 sec\n",
            "x: [0.0, 0.0], y: [0.0], inference: [0.0], result:true\n",
            "x: [0.0, 1.0], y: [1.0], inference: [1.0], result:true\n",
            "x: [1.0, 0.0], y: [1.0], inference: [1.0], result:true\n",
            "x: [1.0, 1.0], y: [0.0], inference: [0.0], result:true\n"
          ],
          "name": "stdout"
        }
      ]
    }
  ]
}