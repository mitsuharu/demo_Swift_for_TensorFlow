{
  "nbformat": 4,
  "nbformat_minor": 0,
  "metadata": {
    "colab": {
      "name": "MNIST_Swift.ipynb",
      "version": "0.3.2",
      "provenance": [],
      "collapsed_sections": []
    },
    "kernelspec": {
      "name": "swift",
      "display_name": "Swift"
    },
    "accelerator": "TPU"
  },
  "cells": [
    {
      "metadata": {
        "id": "oKijskbny28O",
        "colab_type": "text"
      },
      "cell_type": "markdown",
      "source": [
        "MNIST を Swift for TensorFlow で計算しました\n",
        "\n",
        "- モデルは [公式サンプル](https://github.com/tensorflow/swift-models/blob/stable/MNIST/MNIST.swift) そのままです\n",
        "- MNISTのデータは colab のサンプルデータを利用した\n",
        "  - ```sample_data/mnist_train_small.csv``` \n",
        "  - ```sample_data/mnist_test.csv``` \n"
      ]
    },
    {
      "metadata": {
        "id": "Fen2D3HNWBRp",
        "colab_type": "code",
        "outputId": "547b277f-bdd8-48d5-8399-a7a1cd0fdbcc",
        "colab": {
          "base_uri": "https://localhost:8080/",
          "height": 51
        }
      },
      "cell_type": "code",
      "source": [
        "import Foundation\n",
        "import TensorFlow\n",
        "\n",
        "/// サンプルデータの読み込み\n",
        "class MNIST{\n",
        "  \n",
        "  var xTrain: Tensor<Float>!\n",
        "  var xTest: Tensor<Float>!\n",
        "  var yTrain: Tensor<Int32>!\n",
        "  var yTest: Tensor<Int32>!\n",
        "  \n",
        "  init(){\n",
        "    self.read()\n",
        "  }\n",
        "  \n",
        "  \n",
        "  func readCsv(filePath: String) ->  (Tensor<Float>,   Tensor<Int32>){\n",
        "    print(\"read csv \\(filePath)\")\n",
        "    \n",
        "    let url = URL(fileURLWithPath: filePath)\n",
        "    var x:  [Float] = []\n",
        "    var y:  [Int32] =  []\n",
        "      \n",
        "    do{\n",
        "      let str = try String(contentsOf: url, encoding:String.Encoding.utf8)\n",
        "      let lines = str.components(separatedBy: .newlines)\n",
        "      \n",
        "      for line in lines{\n",
        "        let arr = line.components(separatedBy: \",\")    \n",
        "        if arr.count <= 1{\n",
        "          continue\n",
        "        }\n",
        "        y.append(Int32(arr[0])! )\n",
        "        \n",
        "        let range = 1 ..< arr.count\n",
        "        let temps:[Float] = range.map {  Float(arr[$0])! }\n",
        "        x.append(contentsOf: temps)\n",
        "      }\n",
        "    }catch {\n",
        "      print(\"error \\(error)\")\n",
        "    }\n",
        "    \n",
        "    let row = Int32(y.count)\n",
        "    let imageHeight: Int32 = 28\n",
        "    let imageWidth: Int32 = 28\n",
        "    \n",
        "    let tx =  Tensor(shape: [row, 1, imageWidth, imageHeight], scalars: x).transposed(withPermutations: [0, 2, 3, 1]) / 255\n",
        "    let ty:  Tensor<Int32> =  Tensor(y)\n",
        "     \n",
        "    return (tx, ty)\n",
        "  }\n",
        "  \n",
        "  func read(){\n",
        "  \n",
        "    let testFile = \"sample_data/mnist_test.csv\"\n",
        "    let trainFile = \"sample_data/mnist_train_small.csv\"\n",
        "      \n",
        "    let (xTrain, yTrain) = self.readCsv(filePath: trainFile)\n",
        "    let (xTest, yTest) = self.readCsv(filePath: testFile)\n",
        "  \n",
        "    self.xTrain = xTrain\n",
        "    self.yTrain = yTrain\n",
        "    self.xTest = xTest\n",
        "    self.yTest = yTest\n",
        "  }\n",
        "  \n",
        "}\n",
        "\n",
        "let mnist = MNIST()\n"
      ],
      "execution_count": 1,
      "outputs": [
        {
          "output_type": "stream",
          "text": [
            "read csv sample_data/mnist_train_small.csv\n",
            "read csv sample_data/mnist_test.csv\n"
          ],
          "name": "stdout"
        }
      ]
    },
    {
      "metadata": {
        "id": "NqJDtxe1vZWr",
        "colab_type": "code",
        "outputId": "7a6555fe-556a-45d9-d28d-c15b9ee57b74",
        "colab": {
          "base_uri": "https://localhost:8080/",
          "height": 221
        }
      },
      "cell_type": "code",
      "source": [
        "// https://github.com/tensorflow/swift-models/blob/stable/MNIST/MNIST.swift\n",
        "\n",
        "/// A classifier.\n",
        "struct Classifier: Layer {\n",
        "    var conv1a = Conv2D<Float>(filterShape: (3, 3, 1, 32), activation: relu)\n",
        "    var conv1b = Conv2D<Float>(filterShape: (3, 3, 32, 64), activation: relu)\n",
        "    var pool1 = MaxPool2D<Float>(poolSize: (2, 2), strides: (2, 2))\n",
        "\n",
        "    var dropout1a = Dropout<Float>(probability: 0.25)\n",
        "    var flatten = Flatten<Float>()\n",
        "    var layer1a = Dense<Float>(inputSize: 9216, outputSize: 128, activation: relu)\n",
        "    var dropout1b = Dropout<Float>(probability: 0.5)\n",
        "    var layer1b = Dense<Float>(inputSize: 128, outputSize: 10, activation: softmax)\n",
        "\n",
        "    @differentiable\n",
        "    func applied(to input: Tensor<Float>, in context: Context) -> Tensor<Float> {\n",
        "        var tmp = input\n",
        "        tmp = conv1a.applied(to: tmp, in: context)\n",
        "        tmp = conv1b.applied(to: tmp, in: context)\n",
        "        tmp = pool1.applied(to: tmp, in: context)\n",
        "        tmp = dropout1a.applied(to: tmp, in: context)\n",
        "        tmp = flatten.applied(to: tmp, in: context)\n",
        "        tmp = layer1a.applied(to: tmp, in: context)\n",
        "        tmp = dropout1b.applied(to: tmp, in: context)\n",
        "        tmp = layer1b.applied(to: tmp, in: context)\n",
        "        return tmp\n",
        "    }\n",
        "}\n",
        "\n",
        "let epochCount = 12\n",
        "let batchSize = 100\n",
        "\n",
        "func minibatch<Scalar>(in x: Tensor<Scalar>, at index: Int) -> Tensor<Scalar> {\n",
        "    let start = Int32(index * batchSize)\n",
        "    return x[start..<start+Int32(batchSize)]\n",
        "}\n",
        "\n",
        "// let (images, numericLabels) = readMNIST(imagesFile: \"train-images-idx3-ubyte\",\n",
        "//                                         labelsFile: \"train-labels-idx1-ubyte\")\n",
        "\n",
        "let images = mnist.xTrain!\n",
        "let numericLabels = mnist.yTrain!\n",
        "let labels = Tensor<Float>(oneHotAtIndices: numericLabels, depth: 10)\n",
        "\n",
        "var classifier = Classifier()\n",
        "let context = Context(learningPhase: .training)\n",
        "let optimizer = RMSProp<Classifier, Float>()\n",
        "\n",
        "// The training loop.\n",
        "for epoch in 0..<epochCount {\n",
        "  \n",
        "  let date = Date()\n",
        "  \n",
        "  \n",
        "    var correctGuessCount = 0\n",
        "    var totalGuessCount = 0\n",
        "    var totalLoss: Float = 0\n",
        "    for i in 0 ..< Int(labels.shape[0]) / batchSize {\n",
        "        let x = minibatch(in: images, at: i)\n",
        "        let y = minibatch(in: numericLabels, at: i)\n",
        "        // Compute the gradient with respect to the model.\n",
        "        let 𝛁model = classifier.gradient { classifier -> Tensor<Float> in\n",
        "            let ŷ = classifier.applied(to: x, in: context)\n",
        "            let correctPredictions = ŷ.argmax(squeezingAxis: 1) .== y\n",
        "            correctGuessCount += Int(Tensor<Int32>(correctPredictions).sum().scalarized())\n",
        "            totalGuessCount += batchSize\n",
        "            let loss = softmaxCrossEntropy(logits: ŷ, labels: y)\n",
        "            totalLoss += loss.scalarized()\n",
        "            return loss\n",
        "        }\n",
        "        // Update the model's differentiable variables along the gradient vector.\n",
        "        optimizer.update(&classifier.allDifferentiableVariables, along: 𝛁model)\n",
        "    }\n",
        "  \n",
        "  let diff = Date().timeIntervalSince(date)\n",
        "    \n",
        "    let accuracy = Float(correctGuessCount) / Float(totalGuessCount)\n",
        "    print(\"\"\"\n",
        "          [Epoch \\(epoch)] \\\n",
        "          Loss: \\(totalLoss), \\\n",
        "          Accuracy: \\(correctGuessCount)/\\(totalGuessCount) (\\(accuracy)), \\\n",
        "          elapsed_time: \\(diff) sec\n",
        "          \"\"\")\n",
        "}\n",
        "\n"
      ],
      "execution_count": 2,
      "outputs": [
        {
          "output_type": "stream",
          "text": [
            "[Epoch 0] Loss: 329.09583, Accuracy: 16471/20000 (0.82355), elapsed_time: 71.8861780166626 sec\n",
            "[Epoch 1] Loss: 305.26334, Accuracy: 18750/20000 (0.9375), elapsed_time: 71.62785196304321 sec\n",
            "[Epoch 2] Loss: 301.8193, Accuracy: 19079/20000 (0.95395), elapsed_time: 70.78193807601929 sec\n",
            "[Epoch 3] Loss: 300.4459, Accuracy: 19210/20000 (0.9605), elapsed_time: 70.57480204105377 sec\n",
            "[Epoch 4] Loss: 299.07968, Accuracy: 19332/20000 (0.9666), elapsed_time: 70.65001308917999 sec\n",
            "[Epoch 5] Loss: 298.65607, Accuracy: 19376/20000 (0.9688), elapsed_time: 71.37785696983337 sec\n",
            "[Epoch 6] Loss: 298.01047, Accuracy: 19438/20000 (0.9719), elapsed_time: 70.87592697143555 sec\n",
            "[Epoch 7] Loss: 297.48526, Accuracy: 19494/20000 (0.9747), elapsed_time: 70.78634297847748 sec\n",
            "[Epoch 8] Loss: 297.0606, Accuracy: 19527/20000 (0.97635), elapsed_time: 70.71874690055847 sec\n",
            "[Epoch 9] Loss: 296.8288, Accuracy: 19552/20000 (0.9776), elapsed_time: 71.18163001537323 sec\n",
            "[Epoch 10] Loss: 296.45755, Accuracy: 19589/20000 (0.97945), elapsed_time: 71.21243393421173 sec\n",
            "[Epoch 11] Loss: 296.38165, Accuracy: 19597/20000 (0.97985), elapsed_time: 70.94086301326752 sec\n"
          ],
          "name": "stdout"
        }
      ]
    },
    {
      "metadata": {
        "id": "v9rvIxujeOvi",
        "colab_type": "code",
        "outputId": "54cf1520-79de-4d26-a81c-525adb9c6d6d",
        "colab": {
          "base_uri": "https://localhost:8080/",
          "height": 105
        }
      },
      "cell_type": "code",
      "source": [
        "// テストデータで評価\n",
        "\n",
        "let testImages = mnist.xTest!\n",
        "let testNumericLabels = mnist.yTest!\n",
        "\n",
        "let testY = classifier.inferring(from: testImages)\n",
        "//print(\"testY: \\(testY)\")\n",
        "\n",
        "let testCorrectPredictions = testY.argmax(squeezingAxis: 1)  .== testNumericLabels\n",
        "let testCorrectGuessCount = Int(Tensor<Int32>(testCorrectPredictions).sum().scalarized())\n",
        "let acc = Float(testCorrectGuessCount) / Float(testNumericLabels.shape[0])\n",
        "\n",
        "print(\"testCorrectGuessCount: \\(testCorrectGuessCount)/\\(testNumericLabels.shape[0]), acc: \\(acc)\")"
      ],
      "execution_count": 3,
      "outputs": [
        {
          "output_type": "stream",
          "text": [
            "tcmalloc: large alloc 1474560000 bytes == 0x42698000 @  0x7f54cd936b6b 0x7f54cd956379 0x7f54b458f6c7 0x7f54b41d2242 0x7f54b428873b 0x7f54b425937e 0x7f54b42597b9 0x7f54b425989a 0x7f54bbc44ed5 0x7f54b7f3fc9f 0x7f54b7f3e9fd 0x7f54b7ee2041 0x7f54b7ee6cb5 0x7f54b7ee8f55 0x7f54b58689a7 0x7f54a12f7003 0x7f54a12f6cf9 0x7f54a13229f6 0x7f54a1311e19 0x7f54a13d9010 0x7f54cdd3cb66 0x7f54cdd401af 0x7f54a13d3e22 0x7f54cdd3045e 0x400650 0x7f54cdd3c3d0\r\n",
            "tcmalloc: large alloc 6635634688 bytes == 0x9a4d8000 @  0x7f54cd9541e7 0x7f54bb8c63b5 0x7f54bb95dc8e 0x7f54bbc05ad0 0x7f54bbc43ca4 0x7f54bbc440db 0x7f54bbc44fc8 0x7f54b7f3fc9f 0x7f54b7f3e9fd 0x7f54b7ee2041 0x7f54b7ee6cb5 0x7f54b7ee8f55 0x7f54b58689a7 0x7f54a12f7003 0x7f54a12f6cf9 0x7f54a13229f6 0x7f54a1311e19 0x7f54a13d9010 0x7f54cdd3cb66 0x7f54cdd401af 0x7f54a13d3e22 0x7f54cdd3045e 0x400650 0x7f54cdd3c3d0\n",
            "tcmalloc: large alloc 1474560000 bytes == 0x9a4d8000 @  0x7f54cd936b6b 0x7f54cd956379 0x7f54b458f6c7 0x7f54b41d2242 0x7f54b428873b 0x7f54b425937e 0x7f54b42597b9 0x7f54b425989a 0x7f54bb614b57 0x7f54ba9dac68 0x7f54b7f3fc9f 0x7f54b7f3e9fd 0x7f54b7ee2041 0x7f54b7ee6cb5 0x7f54b7ee8f55 0x7f54b58689a7 0x7f54a12f7003 0x7f54a12f6cf9 0x7f54a131531a 0x7f54a1308349 0x7f54a13d9043 0x7f54cdd3cb66 0x7f54cdd401af 0x7f54a13d3e22 0x7f54cdd3045e 0x400650 0x7f54cdd3c3d0\n",
            "testCorrectGuessCount: 9834/10000, acc: 0.9834\n"
          ],
          "name": "stdout"
        }
      ]
    }
  ]
}