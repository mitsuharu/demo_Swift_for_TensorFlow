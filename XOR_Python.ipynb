{
  "nbformat": 4,
  "nbformat_minor": 0,
  "metadata": {
    "colab": {
      "name": "XOR_Python.ipynb",
      "version": "0.3.2",
      "provenance": [],
      "collapsed_sections": []
    },
    "kernelspec": {
      "name": "python3",
      "display_name": "Python 3"
    }
  },
  "cells": [
    {
      "metadata": {
        "id": "gld8MwbTQ-oo",
        "colab_type": "text"
      },
      "cell_type": "markdown",
      "source": [
        "TensorFlow 2.0 preview を使用した（作成時はまだ2.0になっていない）"
      ]
    },
    {
      "metadata": {
        "id": "DnNJ568ERHjQ",
        "colab_type": "code",
        "outputId": "736cae4a-91e7-4d37-a1d7-554b1121c17e",
        "colab": {
          "base_uri": "https://localhost:8080/",
          "height": 868
        }
      },
      "cell_type": "code",
      "source": [
        "# GPUなし\n",
        "!pip install tf-nightly-2.0-preview\n",
        "\n",
        "# GPUあり\n",
        "# !pip install tf-nightly-gpu-2.0-preview"
      ],
      "execution_count": 2,
      "outputs": [
        {
          "output_type": "stream",
          "text": [
            "Collecting tf-nightly-2.0-preview\n",
            "\u001b[?25l  Downloading https://files.pythonhosted.org/packages/49/25/6e436021ff72384e383c135ed7ba6358a466359ef4d4099ed50c1a8ff8d8/tf_nightly_2.0_preview-2.0.0.dev20190413-cp36-cp36m-manylinux1_x86_64.whl (86.5MB)\n",
            "\u001b[K    100% |████████████████████████████████| 86.5MB 334kB/s \n",
            "\u001b[?25hRequirement already satisfied: six>=1.10.0 in /usr/local/lib/python3.6/dist-packages (from tf-nightly-2.0-preview) (1.11.0)\n",
            "Collecting tensorflow-estimator-2.0-preview (from tf-nightly-2.0-preview)\n",
            "\u001b[?25l  Downloading https://files.pythonhosted.org/packages/16/98/3ab56e493a376897f41c6254f0214c38fac929fed506de1e9869184e4d4e/tensorflow_estimator_2.0_preview-1.14.0.dev2019041300-py2.py3-none-any.whl (358kB)\n",
            "\u001b[K    100% |████████████████████████████████| 368kB 19.7MB/s \n",
            "\u001b[?25hRequirement already satisfied: termcolor>=1.1.0 in /usr/local/lib/python3.6/dist-packages (from tf-nightly-2.0-preview) (1.1.0)\n",
            "Requirement already satisfied: gast>=0.2.0 in /usr/local/lib/python3.6/dist-packages (from tf-nightly-2.0-preview) (0.2.2)\n",
            "Collecting wrapt>=1.11.1 (from tf-nightly-2.0-preview)\n",
            "  Downloading https://files.pythonhosted.org/packages/67/b2/0f71ca90b0ade7fad27e3d20327c996c6252a2ffe88f50a95bba7434eda9/wrapt-1.11.1.tar.gz\n",
            "Requirement already satisfied: grpcio>=1.8.6 in /usr/local/lib/python3.6/dist-packages (from tf-nightly-2.0-preview) (1.15.0)\n",
            "Requirement already satisfied: keras-preprocessing>=1.0.5 in /usr/local/lib/python3.6/dist-packages (from tf-nightly-2.0-preview) (1.0.9)\n",
            "Requirement already satisfied: protobuf>=3.6.1 in /usr/local/lib/python3.6/dist-packages (from tf-nightly-2.0-preview) (3.7.1)\n",
            "Requirement already satisfied: numpy<2.0,>=1.14.5 in /usr/local/lib/python3.6/dist-packages (from tf-nightly-2.0-preview) (1.16.2)\n",
            "Requirement already satisfied: wheel>=0.26 in /usr/local/lib/python3.6/dist-packages (from tf-nightly-2.0-preview) (0.33.1)\n",
            "Collecting tb-nightly<1.15.0a0,>=1.14.0a0 (from tf-nightly-2.0-preview)\n",
            "\u001b[?25l  Downloading https://files.pythonhosted.org/packages/20/84/db7feea0474e10cd3ca83a46266e07fd84054eac2a26d8baf7158c52bcee/tb_nightly-1.14.0a20190413-py3-none-any.whl (3.0MB)\n",
            "\u001b[K    100% |████████████████████████████████| 3.0MB 8.2MB/s \n",
            "\u001b[?25hRequirement already satisfied: absl-py>=0.7.0 in /usr/local/lib/python3.6/dist-packages (from tf-nightly-2.0-preview) (0.7.1)\n",
            "Requirement already satisfied: keras-applications>=1.0.6 in /usr/local/lib/python3.6/dist-packages (from tf-nightly-2.0-preview) (1.0.7)\n",
            "Requirement already satisfied: astor>=0.6.0 in /usr/local/lib/python3.6/dist-packages (from tf-nightly-2.0-preview) (0.7.1)\n",
            "Collecting google-pasta>=0.1.2 (from tf-nightly-2.0-preview)\n",
            "\u001b[?25l  Downloading https://files.pythonhosted.org/packages/64/bb/f1bbc131d6294baa6085a222d29abadd012696b73dcbf8cf1bf56b9f082a/google_pasta-0.1.5-py3-none-any.whl (51kB)\n",
            "\u001b[K    100% |████████████████████████████████| 61kB 20.3MB/s \n",
            "\u001b[?25hRequirement already satisfied: setuptools in /usr/local/lib/python3.6/dist-packages (from protobuf>=3.6.1->tf-nightly-2.0-preview) (40.9.0)\n",
            "Requirement already satisfied: markdown>=2.6.8 in /usr/local/lib/python3.6/dist-packages (from tb-nightly<1.15.0a0,>=1.14.0a0->tf-nightly-2.0-preview) (3.1)\n",
            "Requirement already satisfied: werkzeug>=0.11.15 in /usr/local/lib/python3.6/dist-packages (from tb-nightly<1.15.0a0,>=1.14.0a0->tf-nightly-2.0-preview) (0.15.2)\n",
            "Requirement already satisfied: h5py in /usr/local/lib/python3.6/dist-packages (from keras-applications>=1.0.6->tf-nightly-2.0-preview) (2.8.0)\n",
            "Building wheels for collected packages: wrapt\n",
            "  Building wheel for wrapt (setup.py) ... \u001b[?25ldone\n",
            "\u001b[?25h  Stored in directory: /root/.cache/pip/wheels/89/67/41/63cbf0f6ac0a6156588b9587be4db5565f8c6d8ccef98202fc\n",
            "Successfully built wrapt\n",
            "\u001b[31mthinc 6.12.1 has requirement wrapt<1.11.0,>=1.10.0, but you'll have wrapt 1.11.1 which is incompatible.\u001b[0m\n",
            "Installing collected packages: tensorflow-estimator-2.0-preview, wrapt, tb-nightly, google-pasta, tf-nightly-2.0-preview\n",
            "  Found existing installation: wrapt 1.10.11\n",
            "    Uninstalling wrapt-1.10.11:\n",
            "      Successfully uninstalled wrapt-1.10.11\n",
            "Successfully installed google-pasta-0.1.5 tb-nightly-1.14.0a20190413 tensorflow-estimator-2.0-preview-1.14.0.dev2019041300 tf-nightly-2.0-preview-2.0.0.dev20190413 wrapt-1.11.1\n"
          ],
          "name": "stdout"
        },
        {
          "output_type": "display_data",
          "data": {
            "application/vnd.colab-display-data+json": {
              "pip_warning": {
                "packages": [
                  "tensorflow",
                  "tensorflow_estimator"
                ]
              }
            }
          },
          "metadata": {
            "tags": []
          }
        }
      ]
    },
    {
      "metadata": {
        "id": "0bD3NfzFSPU9",
        "colab_type": "code",
        "outputId": "c4683c8c-9b27-49dc-902b-e6f3731517e9",
        "colab": {
          "base_uri": "https://localhost:8080/",
          "height": 36
        }
      },
      "cell_type": "code",
      "source": [
        "import tensorflow as tf\n",
        "\n",
        "print(tf.__version__)"
      ],
      "execution_count": 1,
      "outputs": [
        {
          "output_type": "stream",
          "text": [
            "2.0.0-dev20190413\n"
          ],
          "name": "stdout"
        }
      ]
    },
    {
      "metadata": {
        "id": "gwg9IcQwTsJC",
        "colab_type": "code",
        "outputId": "248911eb-7f75-4f69-e85a-dec9439ca45e",
        "colab": {
          "base_uri": "https://localhost:8080/",
          "height": 130
        }
      },
      "cell_type": "code",
      "source": [
        "# XOR\n",
        "\n",
        "import numpy as np\n",
        "import tensorflow as tf\n",
        "\n",
        "from tensorflow.keras.models import Sequential\n",
        "from tensorflow.keras.layers import Dense, Activation\n",
        "from tensorflow.keras.optimizers import SGD\n",
        "\n",
        "import time\n",
        "\n",
        "def xor():\n",
        "  print(\"xor\")\n",
        "\n",
        "  model = Sequential([\n",
        "        Dense(input_dim=2, units=2),\n",
        "        Activation(\"sigmoid\"),\n",
        "        Dense(input_dim=2, units=1),\n",
        "        Activation(\"sigmoid\")\n",
        "    ])\n",
        "  \n",
        "  model.compile(loss=\"binary_crossentropy\", optimizer=SGD(lr=0.1))\n",
        "  \n",
        "  X = np.array([[0, 0], [0, 1], [1, 0], [1, 1]])\n",
        "  Y = np.array([[0], [1], [1], [0]])\n",
        "\n",
        "  batch_size = 4\n",
        "\n",
        "  start = time.time()\n",
        "\n",
        "  # 学習\n",
        "  model.fit(X, Y, epochs=5000, batch_size=batch_size, verbose=0)\n",
        "\n",
        "  elapsed_time = time.time() - start\n",
        "  print (\"elapsed_time: {0} sec\".format(elapsed_time))\n",
        "  \n",
        "  # 確認\n",
        "  classfied = model.predict_classes(X, batch_size=batch_size)\n",
        "  prob = model.predict_proba(X, batch_size=batch_size)\n",
        "\n",
        "  for (x, y, p, c) in zip(X, Y, prob, classfied):\n",
        "    print(\"x = {}, prob = {}, classfied = {}, result = {}\".format(x, p, c, y == c))\n",
        "    \n",
        "    \n",
        "xor()\n"
      ],
      "execution_count": 2,
      "outputs": [
        {
          "output_type": "stream",
          "text": [
            "xor\n",
            "elapsed_time: 5.920208930969238 sec\n",
            "x = [0 0], prob = [0.42482853], classfied = [0], result = [ True]\n",
            "x = [0 1], prob = [0.37749752], classfied = [0], result = [False]\n",
            "x = [1 0], prob = [0.8063932], classfied = [1], result = [ True]\n",
            "x = [1 1], prob = [0.41526595], classfied = [0], result = [ True]\n"
          ],
          "name": "stdout"
        }
      ]
    }
  ]
}