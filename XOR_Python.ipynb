{
  "nbformat": 4,
  "nbformat_minor": 0,
  "metadata": {
    "colab": {
      "name": "XOR_Python.ipynb",
      "version": "0.3.2",
      "provenance": [],
      "collapsed_sections": []
    },
    "kernelspec": {
      "name": "python3",
      "display_name": "Python 3"
    }
  },
  "cells": [
    {
      "metadata": {
        "id": "gld8MwbTQ-oo",
        "colab_type": "text"
      },
      "cell_type": "markdown",
      "source": [
        "TensorFlow 2.0 preview を使用した（作成時はまだ2.0になっていない）"
      ]
    },
    {
      "metadata": {
        "id": "DnNJ568ERHjQ",
        "colab_type": "code",
        "outputId": "f538ac00-4cbc-4244-b40e-f25c3d746760",
        "colab": {
          "base_uri": "https://localhost:8080/",
          "height": 700
        }
      },
      "cell_type": "code",
      "source": [
        "# GPUなし\n",
        "!pip install tf-nightly-2.0-preview\n",
        "\n",
        "# GPUあり\n",
        "# !pip install tf-nightly-gpu-2.0-preview"
      ],
      "execution_count": 1,
      "outputs": [
        {
          "output_type": "stream",
          "text": [
            "Collecting tf-nightly-2.0-preview\n",
            "\u001b[?25l  Downloading https://files.pythonhosted.org/packages/5e/86/4b045a815fbb1efaa8951c2c8dad7c33a7daf2671045091c80b4bae1a510/tf_nightly_2.0_preview-2.0.0.dev20190416-cp36-cp36m-manylinux1_x86_64.whl (86.7MB)\n",
            "\u001b[K    100% |████████████████████████████████| 86.7MB 234kB/s \n",
            "\u001b[?25hCollecting google-pasta>=0.1.2 (from tf-nightly-2.0-preview)\n",
            "\u001b[?25l  Downloading https://files.pythonhosted.org/packages/64/bb/f1bbc131d6294baa6085a222d29abadd012696b73dcbf8cf1bf56b9f082a/google_pasta-0.1.5-py3-none-any.whl (51kB)\n",
            "\u001b[K    100% |████████████████████████████████| 61kB 20.7MB/s \n",
            "\u001b[?25hRequirement already satisfied: numpy<2.0,>=1.14.5 in /usr/local/lib/python3.6/dist-packages (from tf-nightly-2.0-preview) (1.16.2)\n",
            "Requirement already satisfied: grpcio>=1.8.6 in /usr/local/lib/python3.6/dist-packages (from tf-nightly-2.0-preview) (1.15.0)\n",
            "Requirement already satisfied: wheel>=0.26 in /usr/local/lib/python3.6/dist-packages (from tf-nightly-2.0-preview) (0.33.1)\n",
            "Collecting tensorflow-estimator-2.0-preview (from tf-nightly-2.0-preview)\n",
            "\u001b[?25l  Downloading https://files.pythonhosted.org/packages/b1/2f/6ba20cbc884dcac2f369b7d09b7c1349d3c06a48b9a65fe4f226b0229de9/tensorflow_estimator_2.0_preview-1.14.0.dev2019041600-py2.py3-none-any.whl (359kB)\n",
            "\u001b[K    100% |████████████████████████████████| 368kB 15.1MB/s \n",
            "\u001b[?25hRequirement already satisfied: gast>=0.2.0 in /usr/local/lib/python3.6/dist-packages (from tf-nightly-2.0-preview) (0.2.2)\n",
            "Requirement already satisfied: absl-py>=0.7.0 in /usr/local/lib/python3.6/dist-packages (from tf-nightly-2.0-preview) (0.7.1)\n",
            "Requirement already satisfied: six>=1.10.0 in /usr/local/lib/python3.6/dist-packages (from tf-nightly-2.0-preview) (1.11.0)\n",
            "Collecting wrapt>=1.11.1 (from tf-nightly-2.0-preview)\n",
            "  Downloading https://files.pythonhosted.org/packages/67/b2/0f71ca90b0ade7fad27e3d20327c996c6252a2ffe88f50a95bba7434eda9/wrapt-1.11.1.tar.gz\n",
            "Requirement already satisfied: astor>=0.6.0 in /usr/local/lib/python3.6/dist-packages (from tf-nightly-2.0-preview) (0.7.1)\n",
            "Requirement already satisfied: keras-preprocessing>=1.0.5 in /usr/local/lib/python3.6/dist-packages (from tf-nightly-2.0-preview) (1.0.9)\n",
            "Requirement already satisfied: protobuf>=3.6.1 in /usr/local/lib/python3.6/dist-packages (from tf-nightly-2.0-preview) (3.7.1)\n",
            "Collecting tb-nightly<1.15.0a0,>=1.14.0a0 (from tf-nightly-2.0-preview)\n",
            "\u001b[?25l  Downloading https://files.pythonhosted.org/packages/42/cc/28d39f0f009ee55cefba5df4bb89eff20f8a0be6319c45af5adff10c500f/tb_nightly-1.14.0a20190416-py3-none-any.whl (3.0MB)\n",
            "\u001b[K    100% |████████████████████████████████| 3.0MB 9.7MB/s \n",
            "\u001b[?25hRequirement already satisfied: keras-applications>=1.0.6 in /usr/local/lib/python3.6/dist-packages (from tf-nightly-2.0-preview) (1.0.7)\n",
            "Requirement already satisfied: termcolor>=1.1.0 in /usr/local/lib/python3.6/dist-packages (from tf-nightly-2.0-preview) (1.1.0)\n",
            "Requirement already satisfied: setuptools in /usr/local/lib/python3.6/dist-packages (from protobuf>=3.6.1->tf-nightly-2.0-preview) (40.9.0)\n",
            "Requirement already satisfied: werkzeug>=0.11.15 in /usr/local/lib/python3.6/dist-packages (from tb-nightly<1.15.0a0,>=1.14.0a0->tf-nightly-2.0-preview) (0.15.2)\n",
            "Requirement already satisfied: markdown>=2.6.8 in /usr/local/lib/python3.6/dist-packages (from tb-nightly<1.15.0a0,>=1.14.0a0->tf-nightly-2.0-preview) (3.1)\n",
            "Requirement already satisfied: h5py in /usr/local/lib/python3.6/dist-packages (from keras-applications>=1.0.6->tf-nightly-2.0-preview) (2.8.0)\n",
            "Building wheels for collected packages: wrapt\n",
            "  Building wheel for wrapt (setup.py) ... \u001b[?25ldone\n",
            "\u001b[?25h  Stored in directory: /root/.cache/pip/wheels/89/67/41/63cbf0f6ac0a6156588b9587be4db5565f8c6d8ccef98202fc\n",
            "Successfully built wrapt\n",
            "\u001b[31mthinc 6.12.1 has requirement wrapt<1.11.0,>=1.10.0, but you'll have wrapt 1.11.1 which is incompatible.\u001b[0m\n",
            "Installing collected packages: google-pasta, tensorflow-estimator-2.0-preview, wrapt, tb-nightly, tf-nightly-2.0-preview\n",
            "  Found existing installation: wrapt 1.10.11\n",
            "    Uninstalling wrapt-1.10.11:\n",
            "      Successfully uninstalled wrapt-1.10.11\n",
            "Successfully installed google-pasta-0.1.5 tb-nightly-1.14.0a20190416 tensorflow-estimator-2.0-preview-1.14.0.dev2019041600 tf-nightly-2.0-preview-2.0.0.dev20190416 wrapt-1.11.1\n"
          ],
          "name": "stdout"
        }
      ]
    },
    {
      "metadata": {
        "id": "0bD3NfzFSPU9",
        "colab_type": "code",
        "outputId": "269a825c-bdbb-4baa-bca2-86be0159356a",
        "colab": {
          "base_uri": "https://localhost:8080/",
          "height": 34
        }
      },
      "cell_type": "code",
      "source": [
        "import tensorflow as tf\n",
        "\n",
        "print(tf.__version__)"
      ],
      "execution_count": 2,
      "outputs": [
        {
          "output_type": "stream",
          "text": [
            "2.0.0-dev20190416\n"
          ],
          "name": "stdout"
        }
      ]
    },
    {
      "metadata": {
        "id": "gwg9IcQwTsJC",
        "colab_type": "code",
        "outputId": "7de2da0e-d75d-4154-e0fb-07ccb103042d",
        "colab": {
          "base_uri": "https://localhost:8080/",
          "height": 119
        }
      },
      "cell_type": "code",
      "source": [
        "# XOR\n",
        "\n",
        "import numpy as np\n",
        "import tensorflow as tf\n",
        "\n",
        "from tensorflow.keras.models import Sequential\n",
        "from tensorflow.keras.layers import Dense, Activation\n",
        "from tensorflow.keras.optimizers import SGD\n",
        "\n",
        "import time\n",
        "\n",
        "def xor():\n",
        "  print(\"xor\")\n",
        "\n",
        "  model = Sequential([\n",
        "        Dense(input_dim=2, units=2),\n",
        "        Activation(\"sigmoid\"),\n",
        "        Dense(input_dim=2, units=1),\n",
        "        Activation(\"sigmoid\")\n",
        "    ])\n",
        "  \n",
        "  model.compile(loss=\"binary_crossentropy\", optimizer=SGD(lr=0.1))\n",
        "  \n",
        "  X = np.array([[0, 0], [0, 1], [1, 0], [1, 1]])\n",
        "  Y = np.array([[0], [1], [1], [0]])\n",
        "\n",
        "  batch_size = 4\n",
        "\n",
        "  start = time.time()\n",
        "\n",
        "  # 学習\n",
        "  model.fit(X, Y, epochs=5000, batch_size=batch_size, verbose=0)\n",
        "\n",
        "  elapsed_time = time.time() - start\n",
        "  print (\"elapsed_time: {0} sec\".format(elapsed_time))\n",
        "  \n",
        "  # 確認\n",
        "  classfied = model.predict_classes(X, batch_size=batch_size)\n",
        "  prob = model.predict_proba(X, batch_size=batch_size)\n",
        "\n",
        "  for (x, y, p, c) in zip(X, Y, prob, classfied):\n",
        "    print(\"x = {}, prob = {}, classfied = {}, result = {}\".format(x, p, c, y == c))\n",
        "    \n",
        "    \n",
        "xor()\n"
      ],
      "execution_count": 5,
      "outputs": [
        {
          "output_type": "stream",
          "text": [
            "xor\n",
            "elapsed_time: 6.0390684604644775 sec\n",
            "x = [0 0], prob = [0.07214337], classfied = [0], result = [ True]\n",
            "x = [0 1], prob = [0.9214631], classfied = [1], result = [ True]\n",
            "x = [1 0], prob = [0.9266046], classfied = [1], result = [ True]\n",
            "x = [1 1], prob = [0.05935844], classfied = [0], result = [ True]\n"
          ],
          "name": "stdout"
        }
      ]
    }
  ]
}