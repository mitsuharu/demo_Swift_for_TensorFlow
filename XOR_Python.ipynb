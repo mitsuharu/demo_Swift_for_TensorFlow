{
  "nbformat": 4,
  "nbformat_minor": 0,
  "metadata": {
    "colab": {
      "name": "XOR_Python.ipynb",
      "version": "0.3.2",
      "provenance": [],
      "collapsed_sections": []
    },
    "kernelspec": {
      "name": "python3",
      "display_name": "Python 3"
    }
  },
  "cells": [
    {
      "metadata": {
        "id": "gld8MwbTQ-oo",
        "colab_type": "text"
      },
      "cell_type": "markdown",
      "source": [
        "TensorFlow 2.0 preview を使用した（作成時はまだ2.0になっていない）"
      ]
    },
    {
      "metadata": {
        "id": "DnNJ568ERHjQ",
        "colab_type": "code",
        "colab": {}
      },
      "cell_type": "code",
      "source": [
        "# GPUなし\n",
        "!pip install tf-nightly-2.0-preview\n",
        "\n",
        "# GPUあり\n",
        "# !pip install tf-nightly-gpu-2.0-preview"
      ],
      "execution_count": 0,
      "outputs": []
    },
    {
      "metadata": {
        "id": "0bD3NfzFSPU9",
        "colab_type": "code",
        "outputId": "269a825c-bdbb-4baa-bca2-86be0159356a",
        "colab": {
          "base_uri": "https://localhost:8080/",
          "height": 34
        }
      },
      "cell_type": "code",
      "source": [
        "import tensorflow as tf\n",
        "\n",
        "print(tf.__version__)"
      ],
      "execution_count": 2,
      "outputs": [
        {
          "output_type": "stream",
          "text": [
            "2.0.0-dev20190416\n"
          ],
          "name": "stdout"
        }
      ]
    },
    {
      "metadata": {
        "id": "gwg9IcQwTsJC",
        "colab_type": "code",
        "outputId": "7de2da0e-d75d-4154-e0fb-07ccb103042d",
        "colab": {
          "base_uri": "https://localhost:8080/",
          "height": 119
        }
      },
      "cell_type": "code",
      "source": [
        "# XOR\n",
        "\n",
        "import numpy as np\n",
        "import tensorflow as tf\n",
        "\n",
        "from tensorflow.keras.models import Sequential\n",
        "from tensorflow.keras.layers import Dense, Activation\n",
        "from tensorflow.keras.optimizers import SGD\n",
        "\n",
        "import time\n",
        "\n",
        "def xor():\n",
        "  print(\"xor\")\n",
        "\n",
        "  model = Sequential([\n",
        "        Dense(input_dim=2, units=2),\n",
        "        Activation(\"sigmoid\"),\n",
        "        Dense(input_dim=2, units=1),\n",
        "        Activation(\"sigmoid\")\n",
        "    ])\n",
        "  \n",
        "  model.compile(loss=\"binary_crossentropy\", optimizer=SGD(lr=0.1))\n",
        "  \n",
        "  X = np.array([[0, 0], [0, 1], [1, 0], [1, 1]])\n",
        "  Y = np.array([[0], [1], [1], [0]])\n",
        "\n",
        "  batch_size = 4\n",
        "\n",
        "  start = time.time()\n",
        "\n",
        "  # 学習\n",
        "  model.fit(X, Y, epochs=5000, batch_size=batch_size, verbose=0)\n",
        "\n",
        "  elapsed_time = time.time() - start\n",
        "  print (\"elapsed_time: {0} sec\".format(elapsed_time))\n",
        "  \n",
        "  # 確認\n",
        "  classfied = model.predict_classes(X, batch_size=batch_size)\n",
        "  prob = model.predict_proba(X, batch_size=batch_size)\n",
        "\n",
        "  for (x, y, p, c) in zip(X, Y, prob, classfied):\n",
        "    print(\"x = {}, prob = {}, classfied = {}, result = {}\".format(x, p, c, y == c))\n",
        "    \n",
        "    \n",
        "xor()\n"
      ],
      "execution_count": 5,
      "outputs": [
        {
          "output_type": "stream",
          "text": [
            "xor\n",
            "elapsed_time: 6.0390684604644775 sec\n",
            "x = [0 0], prob = [0.07214337], classfied = [0], result = [ True]\n",
            "x = [0 1], prob = [0.9214631], classfied = [1], result = [ True]\n",
            "x = [1 0], prob = [0.9266046], classfied = [1], result = [ True]\n",
            "x = [1 1], prob = [0.05935844], classfied = [0], result = [ True]\n"
          ],
          "name": "stdout"
        }
      ]
    }
  ]
}